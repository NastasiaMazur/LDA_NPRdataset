{
  "nbformat": 4,
  "nbformat_minor": 0,
  "metadata": {
    "colab": {
      "provenance": [],
      "authorship_tag": "ABX9TyOvAI6uP3BSqMU4GX4lYQjp",
      "include_colab_link": true
    },
    "kernelspec": {
      "name": "python3",
      "display_name": "Python 3"
    },
    "language_info": {
      "name": "python"
    }
  },
  "cells": [
    {
      "cell_type": "markdown",
      "metadata": {
        "id": "view-in-github",
        "colab_type": "text"
      },
      "source": [
        "<a href=\"https://colab.research.google.com/github/NastasiaMazur/LDA_NPRdataset/blob/main/Latent_Dirichlet_Allocation.ipynb\" target=\"_parent\"><img src=\"https://colab.research.google.com/assets/colab-badge.svg\" alt=\"Open In Colab\"/></a>"
      ]
    },
    {
      "cell_type": "markdown",
      "source": [
        "# Latent Dirichlet Allocation"
      ],
      "metadata": {
        "id": "ilhv0AL-RAVv"
      }
    },
    {
      "cell_type": "markdown",
      "source": [
        "## Data\n",
        "articles from NPR (National Public Radio), obtained from their website [www.npr.org](http://www.npr.org)"
      ],
      "metadata": {
        "id": "1PDdX5Q8RIR_"
      }
    },
    {
      "cell_type": "code",
      "source": [
        "import pandas as pd"
      ],
      "metadata": {
        "id": "ARxzeBAz6sAF"
      },
      "execution_count": 64,
      "outputs": []
    },
    {
      "cell_type": "code",
      "source": [
        "npr = pd.read_csv('npr.csv')"
      ],
      "metadata": {
        "id": "3zCn3IXM634z"
      },
      "execution_count": 2,
      "outputs": []
    },
    {
      "cell_type": "code",
      "source": [
        "npr.head()"
      ],
      "metadata": {
        "colab": {
          "base_uri": "https://localhost:8080/",
          "height": 206
        },
        "id": "7HXBILPX7KcM",
        "outputId": "14fb1260-e636-41ed-a250-07ff39ed7b59"
      },
      "execution_count": 3,
      "outputs": [
        {
          "output_type": "execute_result",
          "data": {
            "text/plain": [
              "                                             Article\n",
              "0  In the Washington of 2016, even when the polic...\n",
              "1    Donald Trump has used Twitter  —   his prefe...\n",
              "2    Donald Trump is unabashedly praising Russian...\n",
              "3  Updated at 2:50 p. m. ET, Russian President Vl...\n",
              "4  From photography, illustration and video, to d..."
            ],
            "text/html": [
              "\n",
              "  <div id=\"df-a8105ff8-1598-4d28-9625-88760d9d7410\" class=\"colab-df-container\">\n",
              "    <div>\n",
              "<style scoped>\n",
              "    .dataframe tbody tr th:only-of-type {\n",
              "        vertical-align: middle;\n",
              "    }\n",
              "\n",
              "    .dataframe tbody tr th {\n",
              "        vertical-align: top;\n",
              "    }\n",
              "\n",
              "    .dataframe thead th {\n",
              "        text-align: right;\n",
              "    }\n",
              "</style>\n",
              "<table border=\"1\" class=\"dataframe\">\n",
              "  <thead>\n",
              "    <tr style=\"text-align: right;\">\n",
              "      <th></th>\n",
              "      <th>Article</th>\n",
              "    </tr>\n",
              "  </thead>\n",
              "  <tbody>\n",
              "    <tr>\n",
              "      <th>0</th>\n",
              "      <td>In the Washington of 2016, even when the polic...</td>\n",
              "    </tr>\n",
              "    <tr>\n",
              "      <th>1</th>\n",
              "      <td>Donald Trump has used Twitter  —   his prefe...</td>\n",
              "    </tr>\n",
              "    <tr>\n",
              "      <th>2</th>\n",
              "      <td>Donald Trump is unabashedly praising Russian...</td>\n",
              "    </tr>\n",
              "    <tr>\n",
              "      <th>3</th>\n",
              "      <td>Updated at 2:50 p. m. ET, Russian President Vl...</td>\n",
              "    </tr>\n",
              "    <tr>\n",
              "      <th>4</th>\n",
              "      <td>From photography, illustration and video, to d...</td>\n",
              "    </tr>\n",
              "  </tbody>\n",
              "</table>\n",
              "</div>\n",
              "    <div class=\"colab-df-buttons\">\n",
              "\n",
              "  <div class=\"colab-df-container\">\n",
              "    <button class=\"colab-df-convert\" onclick=\"convertToInteractive('df-a8105ff8-1598-4d28-9625-88760d9d7410')\"\n",
              "            title=\"Convert this dataframe to an interactive table.\"\n",
              "            style=\"display:none;\">\n",
              "\n",
              "  <svg xmlns=\"http://www.w3.org/2000/svg\" height=\"24px\" viewBox=\"0 -960 960 960\">\n",
              "    <path d=\"M120-120v-720h720v720H120Zm60-500h600v-160H180v160Zm220 220h160v-160H400v160Zm0 220h160v-160H400v160ZM180-400h160v-160H180v160Zm440 0h160v-160H620v160ZM180-180h160v-160H180v160Zm440 0h160v-160H620v160Z\"/>\n",
              "  </svg>\n",
              "    </button>\n",
              "\n",
              "  <style>\n",
              "    .colab-df-container {\n",
              "      display:flex;\n",
              "      gap: 12px;\n",
              "    }\n",
              "\n",
              "    .colab-df-convert {\n",
              "      background-color: #E8F0FE;\n",
              "      border: none;\n",
              "      border-radius: 50%;\n",
              "      cursor: pointer;\n",
              "      display: none;\n",
              "      fill: #1967D2;\n",
              "      height: 32px;\n",
              "      padding: 0 0 0 0;\n",
              "      width: 32px;\n",
              "    }\n",
              "\n",
              "    .colab-df-convert:hover {\n",
              "      background-color: #E2EBFA;\n",
              "      box-shadow: 0px 1px 2px rgba(60, 64, 67, 0.3), 0px 1px 3px 1px rgba(60, 64, 67, 0.15);\n",
              "      fill: #174EA6;\n",
              "    }\n",
              "\n",
              "    .colab-df-buttons div {\n",
              "      margin-bottom: 4px;\n",
              "    }\n",
              "\n",
              "    [theme=dark] .colab-df-convert {\n",
              "      background-color: #3B4455;\n",
              "      fill: #D2E3FC;\n",
              "    }\n",
              "\n",
              "    [theme=dark] .colab-df-convert:hover {\n",
              "      background-color: #434B5C;\n",
              "      box-shadow: 0px 1px 3px 1px rgba(0, 0, 0, 0.15);\n",
              "      filter: drop-shadow(0px 1px 2px rgba(0, 0, 0, 0.3));\n",
              "      fill: #FFFFFF;\n",
              "    }\n",
              "  </style>\n",
              "\n",
              "    <script>\n",
              "      const buttonEl =\n",
              "        document.querySelector('#df-a8105ff8-1598-4d28-9625-88760d9d7410 button.colab-df-convert');\n",
              "      buttonEl.style.display =\n",
              "        google.colab.kernel.accessAllowed ? 'block' : 'none';\n",
              "\n",
              "      async function convertToInteractive(key) {\n",
              "        const element = document.querySelector('#df-a8105ff8-1598-4d28-9625-88760d9d7410');\n",
              "        const dataTable =\n",
              "          await google.colab.kernel.invokeFunction('convertToInteractive',\n",
              "                                                    [key], {});\n",
              "        if (!dataTable) return;\n",
              "\n",
              "        const docLinkHtml = 'Like what you see? Visit the ' +\n",
              "          '<a target=\"_blank\" href=https://colab.research.google.com/notebooks/data_table.ipynb>data table notebook</a>'\n",
              "          + ' to learn more about interactive tables.';\n",
              "        element.innerHTML = '';\n",
              "        dataTable['output_type'] = 'display_data';\n",
              "        await google.colab.output.renderOutput(dataTable, element);\n",
              "        const docLink = document.createElement('div');\n",
              "        docLink.innerHTML = docLinkHtml;\n",
              "        element.appendChild(docLink);\n",
              "      }\n",
              "    </script>\n",
              "  </div>\n",
              "\n",
              "\n",
              "<div id=\"df-35b2bb49-fef2-4586-a885-272432e5a89f\">\n",
              "  <button class=\"colab-df-quickchart\" onclick=\"quickchart('df-35b2bb49-fef2-4586-a885-272432e5a89f')\"\n",
              "            title=\"Suggest charts\"\n",
              "            style=\"display:none;\">\n",
              "\n",
              "<svg xmlns=\"http://www.w3.org/2000/svg\" height=\"24px\"viewBox=\"0 0 24 24\"\n",
              "     width=\"24px\">\n",
              "    <g>\n",
              "        <path d=\"M19 3H5c-1.1 0-2 .9-2 2v14c0 1.1.9 2 2 2h14c1.1 0 2-.9 2-2V5c0-1.1-.9-2-2-2zM9 17H7v-7h2v7zm4 0h-2V7h2v10zm4 0h-2v-4h2v4z\"/>\n",
              "    </g>\n",
              "</svg>\n",
              "  </button>\n",
              "\n",
              "<style>\n",
              "  .colab-df-quickchart {\n",
              "      --bg-color: #E8F0FE;\n",
              "      --fill-color: #1967D2;\n",
              "      --hover-bg-color: #E2EBFA;\n",
              "      --hover-fill-color: #174EA6;\n",
              "      --disabled-fill-color: #AAA;\n",
              "      --disabled-bg-color: #DDD;\n",
              "  }\n",
              "\n",
              "  [theme=dark] .colab-df-quickchart {\n",
              "      --bg-color: #3B4455;\n",
              "      --fill-color: #D2E3FC;\n",
              "      --hover-bg-color: #434B5C;\n",
              "      --hover-fill-color: #FFFFFF;\n",
              "      --disabled-bg-color: #3B4455;\n",
              "      --disabled-fill-color: #666;\n",
              "  }\n",
              "\n",
              "  .colab-df-quickchart {\n",
              "    background-color: var(--bg-color);\n",
              "    border: none;\n",
              "    border-radius: 50%;\n",
              "    cursor: pointer;\n",
              "    display: none;\n",
              "    fill: var(--fill-color);\n",
              "    height: 32px;\n",
              "    padding: 0;\n",
              "    width: 32px;\n",
              "  }\n",
              "\n",
              "  .colab-df-quickchart:hover {\n",
              "    background-color: var(--hover-bg-color);\n",
              "    box-shadow: 0 1px 2px rgba(60, 64, 67, 0.3), 0 1px 3px 1px rgba(60, 64, 67, 0.15);\n",
              "    fill: var(--button-hover-fill-color);\n",
              "  }\n",
              "\n",
              "  .colab-df-quickchart-complete:disabled,\n",
              "  .colab-df-quickchart-complete:disabled:hover {\n",
              "    background-color: var(--disabled-bg-color);\n",
              "    fill: var(--disabled-fill-color);\n",
              "    box-shadow: none;\n",
              "  }\n",
              "\n",
              "  .colab-df-spinner {\n",
              "    border: 2px solid var(--fill-color);\n",
              "    border-color: transparent;\n",
              "    border-bottom-color: var(--fill-color);\n",
              "    animation:\n",
              "      spin 1s steps(1) infinite;\n",
              "  }\n",
              "\n",
              "  @keyframes spin {\n",
              "    0% {\n",
              "      border-color: transparent;\n",
              "      border-bottom-color: var(--fill-color);\n",
              "      border-left-color: var(--fill-color);\n",
              "    }\n",
              "    20% {\n",
              "      border-color: transparent;\n",
              "      border-left-color: var(--fill-color);\n",
              "      border-top-color: var(--fill-color);\n",
              "    }\n",
              "    30% {\n",
              "      border-color: transparent;\n",
              "      border-left-color: var(--fill-color);\n",
              "      border-top-color: var(--fill-color);\n",
              "      border-right-color: var(--fill-color);\n",
              "    }\n",
              "    40% {\n",
              "      border-color: transparent;\n",
              "      border-right-color: var(--fill-color);\n",
              "      border-top-color: var(--fill-color);\n",
              "    }\n",
              "    60% {\n",
              "      border-color: transparent;\n",
              "      border-right-color: var(--fill-color);\n",
              "    }\n",
              "    80% {\n",
              "      border-color: transparent;\n",
              "      border-right-color: var(--fill-color);\n",
              "      border-bottom-color: var(--fill-color);\n",
              "    }\n",
              "    90% {\n",
              "      border-color: transparent;\n",
              "      border-bottom-color: var(--fill-color);\n",
              "    }\n",
              "  }\n",
              "</style>\n",
              "\n",
              "  <script>\n",
              "    async function quickchart(key) {\n",
              "      const quickchartButtonEl =\n",
              "        document.querySelector('#' + key + ' button');\n",
              "      quickchartButtonEl.disabled = true;  // To prevent multiple clicks.\n",
              "      quickchartButtonEl.classList.add('colab-df-spinner');\n",
              "      try {\n",
              "        const charts = await google.colab.kernel.invokeFunction(\n",
              "            'suggestCharts', [key], {});\n",
              "      } catch (error) {\n",
              "        console.error('Error during call to suggestCharts:', error);\n",
              "      }\n",
              "      quickchartButtonEl.classList.remove('colab-df-spinner');\n",
              "      quickchartButtonEl.classList.add('colab-df-quickchart-complete');\n",
              "    }\n",
              "    (() => {\n",
              "      let quickchartButtonEl =\n",
              "        document.querySelector('#df-35b2bb49-fef2-4586-a885-272432e5a89f button');\n",
              "      quickchartButtonEl.style.display =\n",
              "        google.colab.kernel.accessAllowed ? 'block' : 'none';\n",
              "    })();\n",
              "  </script>\n",
              "</div>\n",
              "    </div>\n",
              "  </div>\n"
            ],
            "application/vnd.google.colaboratory.intrinsic+json": {
              "type": "dataframe",
              "variable_name": "npr",
              "summary": "{\n  \"name\": \"npr\",\n  \"rows\": 11992,\n  \"fields\": [\n    {\n      \"column\": \"Article\",\n      \"properties\": {\n        \"dtype\": \"string\",\n        \"num_unique_values\": 11991,\n        \"samples\": [\n          \"Last week, physicists at the National Institute for Standards and Technology reported they\\u2019d cooled an object to a million times colder than room temperature. It was a record for the   science of  . In this field, researchers inch ever closer to  \\u2014   but never reach  \\u2014   the state of absolute zero temperature. It\\u2019s a science that has some very cool (pun very much intended) applications including   gravity wave detectors for \\u201dhearing\\u201d distant black hole mergers. But moving beyond these applications, why is   so hard to begin with? Why can\\u2019t we just get to absolute zero degrees and be done with it? The answer to this question drops us straight into one of the quantum universe\\u2019s most startling features: The world never rests. To see what this means, let\\u2019s remind ourselves about the meaning of \\u201dtemperature.\\u201d Without getting too technical (we should really be talking about entropy here) temperature for physicists is a measure of random motion. Imagine the gas molecules in the air around you are little cue balls of matter. The higher the air temperature, the faster those little orbs of matter will be ricocheting around the room, bouncing off the walls and each other. So cooling the air means finding some means to slow the molecules down. From this perspective, there there\\u2019s no conceptual reason why you shouldn\\u2019t be able bring them entirely to a halt. Do that, and the air would have a temperature of \\u201dabsolute zero\\u201d degrees (as measured in units called Kelvins. In Fahrenheit, this would be  . 67 degrees). But, it turns out, nature doesn\\u2019t work that way. The universe doesn\\u2019t \\u201ddo\\u201d zero temperatures because it doesn\\u2019t do zero motion. Thinking about matter and motion in the way we described above is what we physicists call \\u201da classical picture.\\u201d In classical physics, matter is made of tiny particles of \\u201dstuff\\u201d and motion is just the change in the particles position with time. It all makes intuitive sense based on our experience of the world at the scale of baseballs and boulders. But a hundred years or so ago, physicists began probing the world on the scale of atoms. What they found was the classical, intuitive picture didn\\u2019t work well for explaining their experiments. In response, they developed a new kind of physics. In an astonishing burst of creativity, they kept key principles from the classical world  \\u2014   like the conservation of energy  \\u2014   but added new rules. One of these was the Uncertainty Principle, which essentially told us that reality is fuzzy at its root level. To be exact, certain pairs of properties  \\u2014   like motion and position  \\u2014   can never be known exactly. The Uncertainty Principle isn\\u2019t saying there\\u2019s something wrong with our instruments. Instead, it tells us there\\u2019s something wrong with our classical intuitions. In particular, when it comes to motion, it tells us it\\u2019s impossible to know the position and the motion of a particle exactly. The more you lock in the position of a particle, the wider the range of velocities the particle can have. So what does this have to do with temperature? Absolute zero should mean bringing particles to a halt. But that would imply you knew exactly where they were. You had them perfectly \\u201dlocalized.\\u201d If that\\u2019s the case, then the Uncertainty Principle demands there must be some uncertainty in their motion. They can\\u2019t be perfectly known to be perfectly at rest. The deeper meaning of this this quantum logic is that the universe can never be at rest. There is a \\u201dfloor\\u201d to how much things can be slowed down (or cooled). It\\u2019s impossible to go below that floor (though scientists do get ever more clever in skirting its edges). The implications of this can get pretty strange. Imagine we put a particle, like an electron, in a box. Now we ask: What\\u2019s the lowest energy state of the electron + box system? In classical physics, it would just be the electron sitting there unmoving  \\u2014   i. e. zero motion, hence zero energy. But quantum physics won\\u2019t allow such a thing as zero energy (because of the Uncertainty Principle). Instead, the system has   \\u201dground state\\u201d energy with the electron bouncing back and forth between the box walls. That\\u2019s as low as you can go. The electron can\\u2019t be stopped. Take this idea further, and you get to the delicious idea of vacuum energy. There the Uncertainty Principle demands that there can be no pure and perfect vacuum with a state of zero energy. Thus, in quantum physics, the vacuum is not empty but is a seething froth of \\u201dvirtual particles\\u201d that are never manifested and yet have a verifiable effect on the particles we do see. No vacuum. No zero energy. No zero temperature. No common sense expectation about the world\\u2019s behavior. The discovery that the quantum world was the foundation for our   classical experience was a triumph of science. It was a validation of science\\u2019s ability to take us beyond our limited senses and limited concepts. There is no way to \\u201dpicture\\u201d this quantum world with our classical imaginations. Instead, what we found was a new frontier. At its root, quantum physics showed us that this world we inhabit is dynamic to its very core: buzzing, roaring, shuddering and trembling like an infinite Jackson Pollack painting. It is not just richer than we imagined, but stranger and more wonderful than we can imagine. That view, hidden in the impossibility of absolute zero temperature, is a gift that science has given us all. Now what are we to make of it? Adam Frank is a   of the 13. 7 blog, an astrophysics professor at the University of Rochester, a book author and a   \\u201devangelist of science.\\u201d You can keep up with more of what Adam is thinking on Facebook and Twitter: @adamfrank4\",\n          \"President Trump hosted Russian Foreign Minister Sergey Lavrov at the White House on Wednesday, one day after firing the man whose agency is investigating Russia\\u2019s meddling in the 2016 election that brought Trump to power. Trump fired   FBI Director James Comey, who told Congress earlier this year that his agency has been investigating Russia\\u2019s actions  \\u2014   and possible ties to anyone associated with the Trump campaign  \\u2014   since July. As NPR\\u2019s Domenico Montanaro reports, the firing of Comey with more than six years left on his term in office has prompted a flurry of questions about the president\\u2019s motives  \\u2014   and about what\\u2019s next. Lavrov\\u2019s meeting with the president was scheduled for 10:30 a. m. ET, and it was declared closed to the press. Russian agencies tweeted photos from the Oval Office showing that in addition to Lavrov, Trump shook hands with Russia\\u2019s ambassador to America, Sergey Kislyak  \\u2014   a key figure in the investigation into Trump\\u2019s ousted national security adviser, Michael Flynn. After the Lavrov session had concluded, members of the U. S. media were allowed into the Oval Office, where they found the president sitting with Henry Kissinger, who served as President Richard Nixon\\u2019s secretary of state. The meeting hadn\\u2019t been listed on the president\\u2019s official schedule. Trump said he and Kissinger had met to talk \\u201dabout Russia and various other matters,\\u201d according to the pool report. To a question about Comey, Trump reportedly replied, \\u201dHe wasn\\u2019t doing a good job. Very simply. He was not doing a good job.\\u201d The president also said the issue had not affected his meeting with Lavrov. Lavrov arrived in Washington on Tuesday. He met with Secretary of State Rex Tillerson at the White House early Wednesday, ahead of his visit to the Oval Office. Tillerson and Lavrov made a brief appearance Wednesday morning for a   and as Tillerson began to lead his guest back behind closed doors, Lavrov responded to a question about Comey\\u2019s firing. When a reporter asked whether the dismissal has \\u201dcast a shadow\\u201d over their talks, Lavrov stopped and seemed to look genuinely quizzical when he responded, \\u201dWas he fired?\\u201d  \\u2014   but then adopted a deadpan tone as he told the reporter, \\u201dYou are kidding, you are kidding.\\u201d With a theatrical twitch of his head, the Russian diplomat then followed his American counterpart away from the media. The exchange was not included in the State Department\\u2019s brief video snippet from the   that it posted to Twitter. Tillerson\\u2019s office said his talks with Lavrov would focus on \\u201dUkraine, Syria, and bilateral issues.\\u201d But the Russians\\u2019 visit to the White House also came as the Kremlin made its first public comments on Comey\\u2019s removal. When Russian presidential spokesman Dmitry Peskov was asked how the firing might affect U. S.  relations, Peskov replied, \\u201dWe hope that it will not affect them at all. That\\u2019s the United States\\u2019 internal affair. That\\u2019s the U. S. president\\u2019s independent decision, which has nothing to do and should have nothing to do with Russia.\\u201d Comey\\u2019s dismissal has sparked new calls for an independent probe into Russia\\u2019s attempts to influence last year\\u2019s U. S. presidential election  \\u2014   despite the Trump administration\\u2019s assertion that Comey was removed over his handling of the investigation into Clinton\\u2019s private email server. \\u201dThis is nothing less than Nixonian,\\u201d said Patrick Leahy,  . a longtime member of the Senate Judiciary Committee. Announcing Comey\\u2019s abrupt firing Tuesday afternoon, White House press secretary Sean Spicer said the president \\u201dacted based on the clear recommendations of both Deputy Attorney General Rod Rosenstein and Attorney General Jeff Sessions.\\u201d\",\n          \"Republican presidential nominee Donald Trump has been calling for a criminal investigation of his political opponent Hillary Clinton on the campaign trail this year. Trump is angry the FBI probe of Clinton\\u2019s email server ended with no charges. Now, he says, an independent outsider needs to look at the Clinton Foundation. \\u201dThe Justice Department is required to appoint an independent special prosecutor because it has proven itself to be really, sadly, a political arm of the White House,\\u201d Trump said in Akron, Ohio, last week. Trump has offered no evidence to back up his claims that the Justice Department has been corrupted. But his call for a special prosecutor sounds familiar to people who study the intersection of law and politics. \\u201dIf you look at the chronology, pretty much the political party that does not control the White House tends to want special prosecutors and independent counsel laws,\\u201d said Ken Gormley, president of Duquesne University in Pittsburgh and the author of two books on special prosecutors. \\u201dAs soon as the party is in the White House, they don\\u2019t want it anymore.\\u201d In modern times, the idea first cropped up during the 1970s. President Richard Nixon notoriously fired a special prosecutor who was getting close to the tapes that would bring down his administration. Five months after what became known as the Saturday Night Massacre, Congress started work on an independent counsel law. The idea was to insulate sensitive criminal investigations from meddling by the White House. The law would stand for about 20 years. It didn\\u2019t produce many criminal convictions, but it did stir up a lot of trouble for presidents  \\u2014   and the people close to them. In 1996, Hillary Clinton became the first sitting first lady to testify before a grand jury. This one was investigating the Whitewater affair, an investigation that began with a real estate investment and morphed into scrutiny of President Bill Clinton\\u2019s sexual improprieties. Hillary Clinton was never charged with wrongdoing, but the investigation left a mark. Years later, Gormley interviewed Bill Clinton about it. \\u201dHe made clear that his decision to allow and endorse the appointment of an independent counsel in the Whitewater matter was one of the biggest mistakes of his presidency,\\u201d Gormley said. \\u201dIn fact, the words he used at one point is that it was like Wile E. Coyote and the Road Runner. And almost from the moment he was in the White House, there were political opponents using special prosecutors to bring him down, and they were off to the races.\\u201d By 1999, when Congress considered whether to renew the statute, opposition came from nearly all sides. Even Whitewater independent counsel Ken Starr told Congress the law had become a political weapon. \\u201dThe statutory mechanism intended to enhance confidence in law enforcement had the effect of weakening it,\\u201d Starr said, in arguing the law should not be reauthorized. \\u201dJurisdiction and authority over these sensitive matters ought to be returned to the Justice Department. And who will oversee them? The Congress, the press, the public.\\u201d That\\u2019s exactly what happened. The law expired. But the Justice Department can still use special prosecutors. They\\u2019re career lawyers, protected from political leaders at Justice by a firewall. During the George W. Bush years, special prosecutor Patrick Fitzgerald charged and convicted a top aide to the vice president. Justice Department leaders went on to deploy special prosecutors to investigate the firings of U. S. attorneys and the destruction of videotapes that showed torture of detainees. But authorities have relied on those prosecutors only sparingly, a position adopted by many, including Gormley. \\u201dI think I\\u2019ve come to the conclusion that we are better off when we have less of these investigations rather than more,\\u201d he said. \\u201dThey should be reserved for very special and extreme occasions.\\u201d Otherwise, Gormley argued, they could distract from what\\u2019s really important. \\u201dAs we as a country were just obsessed with the issue of Whitewater, Paula Jones, Monica Lewinsky and all of these distractions during the 1990s, there were people inside and outside the country literally plotting our attack,\\u201d he said. One of them, Gormley said, was Osama bin Laden.\"\n        ],\n        \"semantic_type\": \"\",\n        \"description\": \"\"\n      }\n    }\n  ]\n}"
            }
          },
          "metadata": {},
          "execution_count": 3
        }
      ]
    },
    {
      "cell_type": "code",
      "source": [
        "len(npr)"
      ],
      "metadata": {
        "colab": {
          "base_uri": "https://localhost:8080/"
        },
        "id": "c8AZZUNZ7s4K",
        "outputId": "db81cc75-2c89-4885-f4ba-833e368c221e"
      },
      "execution_count": 6,
      "outputs": [
        {
          "output_type": "execute_result",
          "data": {
            "text/plain": [
              "11992"
            ]
          },
          "metadata": {},
          "execution_count": 6
        }
      ]
    },
    {
      "cell_type": "code",
      "source": [
        "npr['Article'][0]\n"
      ],
      "metadata": {
        "colab": {
          "base_uri": "https://localhost:8080/",
          "height": 157
        },
        "id": "v4TuSmyS7Zox",
        "outputId": "df515e81-8f57-4b2c-bf32-eda26863ccf1"
      },
      "execution_count": 7,
      "outputs": [
        {
          "output_type": "execute_result",
          "data": {
            "text/plain": [
              "'In the Washington of 2016, even when the policy can be bipartisan, the politics cannot. And in that sense, this year shows little sign of ending on Dec. 31. When President Obama moved to sanction Russia over its alleged interference in the U. S. election just concluded, some Republicans who had long called for similar or more severe measures could scarcely bring themselves to approve. House Speaker Paul Ryan called the Obama measures ”appropriate” but also ”overdue” and ”a prime example of this administration’s ineffective foreign policy that has left America weaker in the eyes of the world.” Other GOP leaders sounded much the same theme. ”[We have] been urging President Obama for years to take strong action to deter Russia’s worldwide aggression, including its   operations,” wrote Rep. Devin Nunes,  . chairman of the House Intelligence Committee. ”Now with just a few weeks left in office, the president has suddenly decided that some stronger measures are indeed warranted.” Appearing on CNN, frequent Obama critic Trent Franks,  . called for ”much tougher” actions and said three times that Obama had ”finally found his tongue.” Meanwhile, at    and on Fox News, various spokesmen for   Trump said Obama’s real target was not the Russians at all but the man poised to take over the White House in less than three weeks. They spoke of Obama trying to ”tie Trump’s hands” or ”box him in,” meaning the   would be forced either to keep the sanctions or be at odds with Republicans who want to be tougher still on Moscow. Throughout 2016, Trump has repeatedly called not for sanctions but for closer ties with Russia, including cooperation in the fight against ISIS. Russia has battled ISIS in Syria on behalf of that country’s embattled dictator, Bashar Assad, bombing the besieged   city of Aleppo that fell to Assad’s forces this week. During the campaign, Trump even urged Russia to ”find” missing emails from the private server of his opponent, Hillary Clinton. He has exchanged public encomiums with Russian President Vladimir Putin on several occasions and added his doubts about the current U. S. levels of support for NATO  —   Putin’s longtime nemesis. There have also been suggestions that Trump’s extensive business dealings with various Russians are the reason he refuses to release his tax returns. All those issues have been disquieting to some Republicans for many months. Sens. John McCain,  . and Lindsay Graham,  . C. prominent senior members of the Armed Services Committee, have accepted the assessment of 17 U. S. intelligence agencies regarding the role of Russia in the hacking of various Democratic committees last year. That includes the FBI and CIA consensus that the Russian goal was not just to discredit American democracy but to defeat Clinton and elect Trump. They say the great majority of their Senate colleagues agree with them, and McCain has slated an Armed Services hearing on cyberthreats for Jan. 5. But the politicizing of the Russian actions  —   the idea that they helped Trump win  —   has also made the issue difficult for Republican leaders. It has allowed Trump supporters to push back on the intelligence agencies and say the entire issue is designed to undermine Trump’s legitimacy. Senate Majority Leader Mitch McConnell has so far resisted calls for a select committee to look into the Russian interference in the 2016 campaign. He has said it is enough for Sen. Richard Burr,  . C. to look into it as chairman of the Senate Intelligence Committee. Typically, Republican leaders and spokesmen say there is no evidence that the actual voting or tallying on Nov. 8 was compromised, and that is true. But it is also a red herring, as interference in those functions has not been alleged and is not the focus of the U. S. intelligence agencies’ concern. For his part, Trump has shown little interest in delving into what happened. He has cast doubt on the U. S. intelligence reports to date and suggested ”no one really knows what happened.” He also has suggested that computers make it very difficult to know who is using them. This week, Trump said it was time to ”get on with our lives and do more important things.” However, at week’s end he did agree to have an intelligence briefing on the subject next week. The   has not wanted the daily intelligence briefings available to him in recent weeks, preferring that they be given to the men he has chosen as his vice president (Mike Pence) and national security adviser (Mike Flynn) with Trump taking them only occasionally. The irony of this controversy arising at the eleventh hour of the Obama presidency can scarcely be overstated, and it defines the dilemma facing both the outgoing president and the incoming party in control. Obama appears to have been reluctant to retaliate against the Russian hacking before the election for fear of seeming to interfere with the election himself. The Republicans, meanwhile, have for years called for greater confrontation with the Russians, with Obama usually resisting. Obama did join with NATO in punishing the Russians with economic sanctions over the annexation of Crimea. Those sanctions may have been painful, coming as they did alongside falling prices for oil  —   the commodity that keeps the Russian economy afloat. On other occasions, despite Russian provocations through surrogates in Syria and elsewhere, Obama did not make overt moves to force Russia’s hand. That includes occasions when Russia was believed to be hacking critical computer systems in neighboring Ukraine, Estonia and Poland. But this week, following a chorus of confirmation from the U. S. intelligence community regarding the Russian role in computer hacking in the political campaign, Obama acted. He imposed a set of mostly diplomatic actions such as sanctioning some Russian officials, closing two diplomatic compounds and expelling 35 Russian diplomats. There may have been more damaging measures taken covertly, and some Russophobes in Washington held out hope for that. But the visible portion of the program scarcely amounted to major retribution. And Putin saw fit to diminish the Obama sanctions further by declining to respond. Although his government has steadfastly denied any interference in the U. S. election, Putin rejected his own foreign minister’s recommended package of    responses. (He even sent an invitation for U. S. diplomats to send their children to a holiday party in Moscow.) That allowed Putin to appear for the moment to be ”the bigger man,” even as he spurned Obama and kept up what has looked like a public bromance with Trump, who tweeted: ”Great move on delay (by V. Putin)   I always knew he was very smart!” At the moment it may seem that the overall Russia question amounts to the first crisis facing the Trump presidency. Whether forced by this campaign interference issue or not, Trump must grasp the nettle of a relationship Mitt Romney once called the greatest threat to U. S. security in the world. To be sure, Trump needs to dispel doubts about his ability to stand up to Putin, who has bullied and cajoled his way to center stage in recent world affairs. But Trump also seems determined to turn the page on past U. S. commitments, from free trade philosophy to funding of NATO and the United Nations. And if his Twitter account is any guide, Trump shows little concern about the conundrum others perceive to be facing him. Above all, Trump has shown himself determined to play by his own rules. A year ago, many were confident that would not work for him in the world of presidential politics. We are about to find out whether it works for him in the Oval Office.'"
            ],
            "application/vnd.google.colaboratory.intrinsic+json": {
              "type": "string"
            }
          },
          "metadata": {},
          "execution_count": 7
        }
      ]
    },
    {
      "cell_type": "markdown",
      "source": [
        "## Preprocessing"
      ],
      "metadata": {
        "id": "I6mV66J0RZOa"
      }
    },
    {
      "cell_type": "code",
      "source": [
        "from sklearn.feature_extraction.text import CountVectorizer\n",
        "\n",
        "cv = CountVectorizer(max_df=0.9, min_df=2, stop_words='english')  #ignore certain terms when building vocabulary that have very high document freq that show up in 90% of the docs/ words that show min amount of time: it has to show up in at least 2 docs/"
      ],
      "metadata": {
        "id": "7EwGmYXv77VO"
      },
      "execution_count": 10,
      "outputs": []
    },
    {
      "cell_type": "code",
      "source": [
        "dtm = cv.fit_transform(npr['Article'])"
      ],
      "metadata": {
        "id": "blztBzl198le"
      },
      "execution_count": 11,
      "outputs": []
    },
    {
      "cell_type": "code",
      "source": [
        "dtm"
      ],
      "metadata": {
        "colab": {
          "base_uri": "https://localhost:8080/"
        },
        "id": "iRtHtHhQ-puT",
        "outputId": "6cf5c634-d05e-449e-fc23-20972f997559"
      },
      "execution_count": 12,
      "outputs": [
        {
          "output_type": "execute_result",
          "data": {
            "text/plain": [
              "<11992x54777 sparse matrix of type '<class 'numpy.int64'>'\n",
              "\twith 3033388 stored elements in Compressed Sparse Row format>"
            ]
          },
          "metadata": {},
          "execution_count": 12
        }
      ]
    },
    {
      "cell_type": "markdown",
      "source": [
        "## LDA"
      ],
      "metadata": {
        "id": "Ky2Xom3qRqki"
      }
    },
    {
      "cell_type": "code",
      "source": [
        "from sklearn.decomposition import LatentDirichletAllocation"
      ],
      "metadata": {
        "id": "2wIo1udY-1U4"
      },
      "execution_count": 13,
      "outputs": []
    },
    {
      "cell_type": "code",
      "source": [
        "LDA = LatentDirichletAllocation(n_components=7, random_state = 42) # 7 general topics to return"
      ],
      "metadata": {
        "id": "wWFWURj7--3-"
      },
      "execution_count": 14,
      "outputs": []
    },
    {
      "cell_type": "code",
      "source": [
        "LDA.fit(dtm)"
      ],
      "metadata": {
        "colab": {
          "base_uri": "https://localhost:8080/",
          "height": 75
        },
        "id": "epUPTS07_qT5",
        "outputId": "bbd1b552-a35b-4556-c802-db675cf3992a"
      },
      "execution_count": 15,
      "outputs": [
        {
          "output_type": "execute_result",
          "data": {
            "text/plain": [
              "LatentDirichletAllocation(n_components=7, random_state=42)"
            ],
            "text/html": [
              "<style>#sk-container-id-1 {color: black;background-color: white;}#sk-container-id-1 pre{padding: 0;}#sk-container-id-1 div.sk-toggleable {background-color: white;}#sk-container-id-1 label.sk-toggleable__label {cursor: pointer;display: block;width: 100%;margin-bottom: 0;padding: 0.3em;box-sizing: border-box;text-align: center;}#sk-container-id-1 label.sk-toggleable__label-arrow:before {content: \"▸\";float: left;margin-right: 0.25em;color: #696969;}#sk-container-id-1 label.sk-toggleable__label-arrow:hover:before {color: black;}#sk-container-id-1 div.sk-estimator:hover label.sk-toggleable__label-arrow:before {color: black;}#sk-container-id-1 div.sk-toggleable__content {max-height: 0;max-width: 0;overflow: hidden;text-align: left;background-color: #f0f8ff;}#sk-container-id-1 div.sk-toggleable__content pre {margin: 0.2em;color: black;border-radius: 0.25em;background-color: #f0f8ff;}#sk-container-id-1 input.sk-toggleable__control:checked~div.sk-toggleable__content {max-height: 200px;max-width: 100%;overflow: auto;}#sk-container-id-1 input.sk-toggleable__control:checked~label.sk-toggleable__label-arrow:before {content: \"▾\";}#sk-container-id-1 div.sk-estimator input.sk-toggleable__control:checked~label.sk-toggleable__label {background-color: #d4ebff;}#sk-container-id-1 div.sk-label input.sk-toggleable__control:checked~label.sk-toggleable__label {background-color: #d4ebff;}#sk-container-id-1 input.sk-hidden--visually {border: 0;clip: rect(1px 1px 1px 1px);clip: rect(1px, 1px, 1px, 1px);height: 1px;margin: -1px;overflow: hidden;padding: 0;position: absolute;width: 1px;}#sk-container-id-1 div.sk-estimator {font-family: monospace;background-color: #f0f8ff;border: 1px dotted black;border-radius: 0.25em;box-sizing: border-box;margin-bottom: 0.5em;}#sk-container-id-1 div.sk-estimator:hover {background-color: #d4ebff;}#sk-container-id-1 div.sk-parallel-item::after {content: \"\";width: 100%;border-bottom: 1px solid gray;flex-grow: 1;}#sk-container-id-1 div.sk-label:hover label.sk-toggleable__label {background-color: #d4ebff;}#sk-container-id-1 div.sk-serial::before {content: \"\";position: absolute;border-left: 1px solid gray;box-sizing: border-box;top: 0;bottom: 0;left: 50%;z-index: 0;}#sk-container-id-1 div.sk-serial {display: flex;flex-direction: column;align-items: center;background-color: white;padding-right: 0.2em;padding-left: 0.2em;position: relative;}#sk-container-id-1 div.sk-item {position: relative;z-index: 1;}#sk-container-id-1 div.sk-parallel {display: flex;align-items: stretch;justify-content: center;background-color: white;position: relative;}#sk-container-id-1 div.sk-item::before, #sk-container-id-1 div.sk-parallel-item::before {content: \"\";position: absolute;border-left: 1px solid gray;box-sizing: border-box;top: 0;bottom: 0;left: 50%;z-index: -1;}#sk-container-id-1 div.sk-parallel-item {display: flex;flex-direction: column;z-index: 1;position: relative;background-color: white;}#sk-container-id-1 div.sk-parallel-item:first-child::after {align-self: flex-end;width: 50%;}#sk-container-id-1 div.sk-parallel-item:last-child::after {align-self: flex-start;width: 50%;}#sk-container-id-1 div.sk-parallel-item:only-child::after {width: 0;}#sk-container-id-1 div.sk-dashed-wrapped {border: 1px dashed gray;margin: 0 0.4em 0.5em 0.4em;box-sizing: border-box;padding-bottom: 0.4em;background-color: white;}#sk-container-id-1 div.sk-label label {font-family: monospace;font-weight: bold;display: inline-block;line-height: 1.2em;}#sk-container-id-1 div.sk-label-container {text-align: center;}#sk-container-id-1 div.sk-container {/* jupyter's `normalize.less` sets `[hidden] { display: none; }` but bootstrap.min.css set `[hidden] { display: none !important; }` so we also need the `!important` here to be able to override the default hidden behavior on the sphinx rendered scikit-learn.org. See: https://github.com/scikit-learn/scikit-learn/issues/21755 */display: inline-block !important;position: relative;}#sk-container-id-1 div.sk-text-repr-fallback {display: none;}</style><div id=\"sk-container-id-1\" class=\"sk-top-container\"><div class=\"sk-text-repr-fallback\"><pre>LatentDirichletAllocation(n_components=7, random_state=42)</pre><b>In a Jupyter environment, please rerun this cell to show the HTML representation or trust the notebook. <br />On GitHub, the HTML representation is unable to render, please try loading this page with nbviewer.org.</b></div><div class=\"sk-container\" hidden><div class=\"sk-item\"><div class=\"sk-estimator sk-toggleable\"><input class=\"sk-toggleable__control sk-hidden--visually\" id=\"sk-estimator-id-1\" type=\"checkbox\" checked><label for=\"sk-estimator-id-1\" class=\"sk-toggleable__label sk-toggleable__label-arrow\">LatentDirichletAllocation</label><div class=\"sk-toggleable__content\"><pre>LatentDirichletAllocation(n_components=7, random_state=42)</pre></div></div></div></div></div>"
            ]
          },
          "metadata": {},
          "execution_count": 15
        }
      ]
    },
    {
      "cell_type": "markdown",
      "source": [
        "It takes time to update its weights per word per topic. LDA is iterative process."
      ],
      "metadata": {
        "id": "-hlBDmkqAKuX"
      }
    },
    {
      "cell_type": "markdown",
      "source": [
        "# Grab the vocabulary of words - Showing Stored Words"
      ],
      "metadata": {
        "id": "JmxBrDOMDpqk"
      }
    },
    {
      "cell_type": "code",
      "source": [
        "len(cv.get_feature_names_out())"
      ],
      "metadata": {
        "colab": {
          "base_uri": "https://localhost:8080/"
        },
        "id": "Sz79hc3aBikL",
        "outputId": "3ca3c25b-001d-4ce3-b797-d8d5596744bf"
      },
      "execution_count": 19,
      "outputs": [
        {
          "output_type": "execute_result",
          "data": {
            "text/plain": [
              "54777"
            ]
          },
          "metadata": {},
          "execution_count": 19
        }
      ]
    },
    {
      "cell_type": "code",
      "source": [
        "type(cv.get_feature_names_out())"
      ],
      "metadata": {
        "colab": {
          "base_uri": "https://localhost:8080/"
        },
        "id": "HzCro2u5CgLB",
        "outputId": "7af85395-962c-45b7-ba74-7ee7fbe58652"
      },
      "execution_count": 22,
      "outputs": [
        {
          "output_type": "execute_result",
          "data": {
            "text/plain": [
              "numpy.ndarray"
            ]
          },
          "metadata": {},
          "execution_count": 22
        }
      ]
    },
    {
      "cell_type": "code",
      "source": [
        "cv.get_feature_names_out()[50000]"
      ],
      "metadata": {
        "colab": {
          "base_uri": "https://localhost:8080/",
          "height": 35
        },
        "id": "Gm8hnz_0BKu5",
        "outputId": "f49e5ed8-09ff-4292-857a-a71d09f94b2f"
      },
      "execution_count": 24,
      "outputs": [
        {
          "output_type": "execute_result",
          "data": {
            "text/plain": [
              "'transcribe'"
            ],
            "application/vnd.google.colaboratory.intrinsic+json": {
              "type": "string"
            }
          },
          "metadata": {},
          "execution_count": 24
        }
      ]
    },
    {
      "cell_type": "code",
      "source": [
        "import random\n",
        "random_word_id = random.randint(0, 54777)\n",
        "cv.get_feature_names_out()[random_word_id]"
      ],
      "metadata": {
        "colab": {
          "base_uri": "https://localhost:8080/",
          "height": 35
        },
        "id": "Q8XZSlokC2gy",
        "outputId": "8579d9c0-f069-42c8-e75b-ff89c91c895f"
      },
      "execution_count": 29,
      "outputs": [
        {
          "output_type": "execute_result",
          "data": {
            "text/plain": [
              "'brenner'"
            ],
            "application/vnd.google.colaboratory.intrinsic+json": {
              "type": "string"
            }
          },
          "metadata": {},
          "execution_count": 29
        }
      ]
    },
    {
      "cell_type": "markdown",
      "source": [
        "# Grab the topics - Showing Top Words Per Topic"
      ],
      "metadata": {
        "id": "1kbc2BPODu4F"
      }
    },
    {
      "cell_type": "code",
      "source": [
        "len(LDA.components_)"
      ],
      "metadata": {
        "colab": {
          "base_uri": "https://localhost:8080/"
        },
        "id": "5I0W1wpGBMQi",
        "outputId": "34670453-3cce-4a6c-de95-7cb948de81e0"
      },
      "execution_count": 30,
      "outputs": [
        {
          "output_type": "execute_result",
          "data": {
            "text/plain": [
              "7"
            ]
          },
          "metadata": {},
          "execution_count": 30
        }
      ]
    },
    {
      "cell_type": "code",
      "source": [
        "type(LDA.components_)"
      ],
      "metadata": {
        "colab": {
          "base_uri": "https://localhost:8080/"
        },
        "id": "BACEecY7EFQH",
        "outputId": "a445d44e-06bb-42ed-9de1-e2c094948218"
      },
      "execution_count": 31,
      "outputs": [
        {
          "output_type": "execute_result",
          "data": {
            "text/plain": [
              "numpy.ndarray"
            ]
          },
          "metadata": {},
          "execution_count": 31
        }
      ]
    },
    {
      "cell_type": "code",
      "source": [
        "LDA.components_.shape"
      ],
      "metadata": {
        "colab": {
          "base_uri": "https://localhost:8080/"
        },
        "id": "EhodEhq4ELKm",
        "outputId": "4c286663-d578-45a0-940f-78d90b477af1"
      },
      "execution_count": 34,
      "outputs": [
        {
          "output_type": "execute_result",
          "data": {
            "text/plain": [
              "(7, 54777)"
            ]
          },
          "metadata": {},
          "execution_count": 34
        }
      ]
    },
    {
      "cell_type": "code",
      "source": [
        "LDA.components_"
      ],
      "metadata": {
        "colab": {
          "base_uri": "https://localhost:8080/"
        },
        "id": "_PZGWucVEXK3",
        "outputId": "9a5c9d90-5bc0-48fb-b1d9-0e7419309fa2"
      },
      "execution_count": 35,
      "outputs": [
        {
          "output_type": "execute_result",
          "data": {
            "text/plain": [
              "array([[8.64332806e+00, 2.38014333e+03, 1.42900522e-01, ...,\n",
              "        1.43006821e-01, 1.42902042e-01, 1.42861626e-01],\n",
              "       [2.76191749e+01, 5.36394437e+02, 1.42857148e-01, ...,\n",
              "        1.42861973e-01, 1.42857147e-01, 1.42906875e-01],\n",
              "       [7.22783888e+00, 8.24033986e+02, 1.42857148e-01, ...,\n",
              "        6.14236247e+00, 2.14061364e+00, 1.42923753e-01],\n",
              "       ...,\n",
              "       [3.11488651e+00, 3.50409655e+02, 1.42857147e-01, ...,\n",
              "        1.42859912e-01, 1.42857146e-01, 1.42866614e-01],\n",
              "       [4.61486388e+01, 5.14408600e+01, 3.14281373e+00, ...,\n",
              "        1.43107628e-01, 1.43902481e-01, 2.14271779e+00],\n",
              "       [4.93991422e-01, 4.18841042e+02, 1.42857151e-01, ...,\n",
              "        1.42857146e-01, 1.43760101e-01, 1.42866201e-01]])"
            ]
          },
          "metadata": {},
          "execution_count": 35
        }
      ]
    },
    {
      "cell_type": "code",
      "source": [
        "single_topic = LDA.components_[0]"
      ],
      "metadata": {
        "id": "H8W0-6hHEgGV"
      },
      "execution_count": 36,
      "outputs": []
    },
    {
      "cell_type": "code",
      "source": [
        "single_topic.argsort()"
      ],
      "metadata": {
        "colab": {
          "base_uri": "https://localhost:8080/"
        },
        "id": "DeA_9ZvKExBk",
        "outputId": "d0118661-cf27-4f4f-cc64-2c6bcf36aa91"
      },
      "execution_count": 37,
      "outputs": [
        {
          "output_type": "execute_result",
          "data": {
            "text/plain": [
              "array([ 2475, 18302, 35285, ..., 22673, 42561, 42993])"
            ]
          },
          "metadata": {},
          "execution_count": 37
        }
      ]
    },
    {
      "cell_type": "code",
      "source": [
        "import numpy as np"
      ],
      "metadata": {
        "id": "B0yljVhTFNCd"
      },
      "execution_count": 39,
      "outputs": []
    },
    {
      "cell_type": "code",
      "source": [
        "arr = np.array([10,200,1])"
      ],
      "metadata": {
        "id": "_VBkfIUkE8ty"
      },
      "execution_count": 40,
      "outputs": []
    },
    {
      "cell_type": "code",
      "source": [
        "arr"
      ],
      "metadata": {
        "colab": {
          "base_uri": "https://localhost:8080/"
        },
        "id": "aTxX6UgyFKVd",
        "outputId": "a93cf02d-4405-42e9-9534-6790637aeecd"
      },
      "execution_count": 41,
      "outputs": [
        {
          "output_type": "execute_result",
          "data": {
            "text/plain": [
              "array([ 10, 200,   1])"
            ]
          },
          "metadata": {},
          "execution_count": 41
        }
      ]
    },
    {
      "cell_type": "code",
      "source": [
        "arr.argsort() # sort from the lowest value to the highest value"
      ],
      "metadata": {
        "colab": {
          "base_uri": "https://localhost:8080/"
        },
        "id": "IPWYXVgeFTEJ",
        "outputId": "bfd3e437-22d8-4bdb-f1e5-5299e94306d2"
      },
      "execution_count": 44,
      "outputs": [
        {
          "output_type": "execute_result",
          "data": {
            "text/plain": [
              "array([2, 0, 1])"
            ]
          },
          "metadata": {},
          "execution_count": 44
        }
      ]
    },
    {
      "cell_type": "code",
      "source": [
        "#ARGSORT returns back --> INDEX POSITIONS SORTED FROM LEAST --> GREATEST\n",
        "#TOP 10 values (10 GREATEST values)\n",
        "#last 10 values of ARGSORT()\n",
        "single_topic.argsort()[-10:] # grab the last 10 values od the result asrsort()// returns the index positions of the 10 highest probability words"
      ],
      "metadata": {
        "colab": {
          "base_uri": "https://localhost:8080/"
        },
        "id": "MV0HvzbCFaSK",
        "outputId": "fea99e9c-2a55-4612-bdca-785999b037e6"
      },
      "execution_count": 46,
      "outputs": [
        {
          "output_type": "execute_result",
          "data": {
            "text/plain": [
              "array([33390, 36310, 21228, 10425, 31464,  8149, 36283, 22673, 42561,\n",
              "       42993])"
            ]
          },
          "metadata": {},
          "execution_count": 46
        }
      ]
    },
    {
      "cell_type": "code",
      "source": [
        "top_20_words = single_topic.argsort()[-20:]"
      ],
      "metadata": {
        "id": "OnbpK0ocG_Km"
      },
      "execution_count": 49,
      "outputs": []
    },
    {
      "cell_type": "code",
      "source": [
        "for index in top_20_words:\n",
        "  print(cv.get_feature_names_out()[index])"
      ],
      "metadata": {
        "colab": {
          "base_uri": "https://localhost:8080/"
        },
        "id": "cJjhIzJoHM-P",
        "outputId": "eb0e8961-7b90-404b-dd11-7dd7c60de0f2"
      },
      "execution_count": 50,
      "outputs": [
        {
          "output_type": "stream",
          "name": "stdout",
          "text": [
            "president\n",
            "state\n",
            "tax\n",
            "insurance\n",
            "trump\n",
            "companies\n",
            "money\n",
            "year\n",
            "federal\n",
            "000\n",
            "new\n",
            "percent\n",
            "government\n",
            "company\n",
            "million\n",
            "care\n",
            "people\n",
            "health\n",
            "said\n",
            "says\n"
          ]
        }
      ]
    },
    {
      "cell_type": "markdown",
      "source": [
        "# Grab the highest probability words per topic"
      ],
      "metadata": {
        "id": "BAbAzxBUEfZS"
      }
    },
    {
      "cell_type": "markdown",
      "source": [
        "Set up a loop that prints out the top 15 words for each of the 7 topics."
      ],
      "metadata": {
        "id": "aVCBl3sOIBa3"
      }
    },
    {
      "cell_type": "code",
      "source": [
        "for i, topic in enumerate (LDA.components_):\n",
        "  print(f\"THE TOP 15 WORDS FOR TOPIC #{i}\")\n",
        "  print([cv.get_feature_names_out()[index] for index in topic.argsort()[-15:]])\n",
        "  print('\\n')\n",
        "  print('\\n')"
      ],
      "metadata": {
        "colab": {
          "base_uri": "https://localhost:8080/"
        },
        "id": "6qYCMR0_IAxh",
        "outputId": "81c77e06-b042-4190-8e78-6ab876c3db87"
      },
      "execution_count": 51,
      "outputs": [
        {
          "output_type": "stream",
          "name": "stdout",
          "text": [
            "THE TOP 15 WORDS FOR TOPIC #0\n",
            "['companies', 'money', 'year', 'federal', '000', 'new', 'percent', 'government', 'company', 'million', 'care', 'people', 'health', 'said', 'says']\n",
            "\n",
            "\n",
            "\n",
            "\n",
            "THE TOP 15 WORDS FOR TOPIC #1\n",
            "['military', 'house', 'security', 'russia', 'government', 'npr', 'reports', 'says', 'news', 'people', 'told', 'police', 'president', 'trump', 'said']\n",
            "\n",
            "\n",
            "\n",
            "\n",
            "THE TOP 15 WORDS FOR TOPIC #2\n",
            "['way', 'world', 'family', 'home', 'day', 'time', 'water', 'city', 'new', 'years', 'food', 'just', 'people', 'like', 'says']\n",
            "\n",
            "\n",
            "\n",
            "\n",
            "THE TOP 15 WORDS FOR TOPIC #3\n",
            "['time', 'new', 'don', 'years', 'medical', 'disease', 'patients', 'just', 'children', 'study', 'like', 'women', 'health', 'people', 'says']\n",
            "\n",
            "\n",
            "\n",
            "\n",
            "THE TOP 15 WORDS FOR TOPIC #4\n",
            "['voters', 'vote', 'election', 'party', 'new', 'obama', 'court', 'republican', 'campaign', 'people', 'state', 'president', 'clinton', 'said', 'trump']\n",
            "\n",
            "\n",
            "\n",
            "\n",
            "THE TOP 15 WORDS FOR TOPIC #5\n",
            "['years', 'going', 've', 'life', 'don', 'new', 'way', 'music', 'really', 'time', 'know', 'think', 'people', 'just', 'like']\n",
            "\n",
            "\n",
            "\n",
            "\n",
            "THE TOP 15 WORDS FOR TOPIC #6\n",
            "['student', 'years', 'data', 'science', 'university', 'people', 'time', 'schools', 'just', 'education', 'new', 'like', 'students', 'school', 'says']\n",
            "\n",
            "\n",
            "\n",
            "\n"
          ]
        }
      ]
    },
    {
      "cell_type": "markdown",
      "source": [
        "### Attaching Discovered Topic Labels to Original Articles"
      ],
      "metadata": {
        "id": "BXrE0JNQSH_s"
      }
    },
    {
      "cell_type": "code",
      "source": [
        "dtm"
      ],
      "metadata": {
        "colab": {
          "base_uri": "https://localhost:8080/"
        },
        "id": "jGalEZkXKG9l",
        "outputId": "434b4596-6cad-43f9-fd5b-888fc3a452e7"
      },
      "execution_count": 52,
      "outputs": [
        {
          "output_type": "execute_result",
          "data": {
            "text/plain": [
              "<11992x54777 sparse matrix of type '<class 'numpy.int64'>'\n",
              "\twith 3033388 stored elements in Compressed Sparse Row format>"
            ]
          },
          "metadata": {},
          "execution_count": 52
        }
      ]
    },
    {
      "cell_type": "markdown",
      "source": [
        "Create a new column that has topic numner:"
      ],
      "metadata": {
        "id": "r1l2gqrQKUF-"
      }
    },
    {
      "cell_type": "code",
      "source": [
        "topic_results = LDA.transform(dtm)"
      ],
      "metadata": {
        "id": "fpXtTy-ZKJRl"
      },
      "execution_count": 55,
      "outputs": []
    },
    {
      "cell_type": "code",
      "source": [
        "topic_results.shape"
      ],
      "metadata": {
        "colab": {
          "base_uri": "https://localhost:8080/"
        },
        "id": "4b0qR-YvLyyc",
        "outputId": "b811fb05-3e08-4220-b657-b4401095a610"
      },
      "execution_count": 57,
      "outputs": [
        {
          "output_type": "execute_result",
          "data": {
            "text/plain": [
              "(11992, 7)"
            ]
          },
          "metadata": {},
          "execution_count": 57
        }
      ]
    },
    {
      "cell_type": "code",
      "source": [
        "topic_results[0].argmax() # returns index position of the highest probability"
      ],
      "metadata": {
        "colab": {
          "base_uri": "https://localhost:8080/"
        },
        "id": "EzRYRPrgMIjG",
        "outputId": "e98c9fcb-fc54-47b6-cc5e-0ad991e9cc3a"
      },
      "execution_count": 61,
      "outputs": [
        {
          "output_type": "execute_result",
          "data": {
            "text/plain": [
              "1"
            ]
          },
          "metadata": {},
          "execution_count": 61
        }
      ]
    },
    {
      "cell_type": "markdown",
      "source": [
        "This means that our model thinks that the first article belongs to topic #1."
      ],
      "metadata": {
        "id": "F_B0qIKcSPz_"
      }
    },
    {
      "cell_type": "markdown",
      "source": [
        "### Combining with Original Data"
      ],
      "metadata": {
        "id": "mRSMjxUhSb-W"
      }
    },
    {
      "cell_type": "code",
      "source": [
        "npr['Topic'] = topic_results.argmax(axis=1)"
      ],
      "metadata": {
        "id": "gH1J5k8OP9hb"
      },
      "execution_count": 62,
      "outputs": []
    },
    {
      "cell_type": "code",
      "source": [
        "npr"
      ],
      "metadata": {
        "colab": {
          "base_uri": "https://localhost:8080/",
          "height": 424
        },
        "id": "NHhluHzOQMtc",
        "outputId": "ab686ed5-d1c7-4ef2-cc1d-04469a3d0395"
      },
      "execution_count": 63,
      "outputs": [
        {
          "output_type": "execute_result",
          "data": {
            "text/plain": [
              "                                                 Article  Topic\n",
              "0      In the Washington of 2016, even when the polic...      1\n",
              "1        Donald Trump has used Twitter  —   his prefe...      1\n",
              "2        Donald Trump is unabashedly praising Russian...      1\n",
              "3      Updated at 2:50 p. m. ET, Russian President Vl...      1\n",
              "4      From photography, illustration and video, to d...      2\n",
              "...                                                  ...    ...\n",
              "11987  The number of law enforcement officers shot an...      1\n",
              "11988    Trump is busy these days with victory tours,...      4\n",
              "11989  It’s always interesting for the Goats and Soda...      3\n",
              "11990  The election of Donald Trump was a surprise to...      4\n",
              "11991  Voters in the English city of Sunderland did s...      0\n",
              "\n",
              "[11992 rows x 2 columns]"
            ],
            "text/html": [
              "\n",
              "  <div id=\"df-dd065e3b-65ab-47c7-8fc3-3dd54cc8f7a9\" class=\"colab-df-container\">\n",
              "    <div>\n",
              "<style scoped>\n",
              "    .dataframe tbody tr th:only-of-type {\n",
              "        vertical-align: middle;\n",
              "    }\n",
              "\n",
              "    .dataframe tbody tr th {\n",
              "        vertical-align: top;\n",
              "    }\n",
              "\n",
              "    .dataframe thead th {\n",
              "        text-align: right;\n",
              "    }\n",
              "</style>\n",
              "<table border=\"1\" class=\"dataframe\">\n",
              "  <thead>\n",
              "    <tr style=\"text-align: right;\">\n",
              "      <th></th>\n",
              "      <th>Article</th>\n",
              "      <th>Topic</th>\n",
              "    </tr>\n",
              "  </thead>\n",
              "  <tbody>\n",
              "    <tr>\n",
              "      <th>0</th>\n",
              "      <td>In the Washington of 2016, even when the polic...</td>\n",
              "      <td>1</td>\n",
              "    </tr>\n",
              "    <tr>\n",
              "      <th>1</th>\n",
              "      <td>Donald Trump has used Twitter  —   his prefe...</td>\n",
              "      <td>1</td>\n",
              "    </tr>\n",
              "    <tr>\n",
              "      <th>2</th>\n",
              "      <td>Donald Trump is unabashedly praising Russian...</td>\n",
              "      <td>1</td>\n",
              "    </tr>\n",
              "    <tr>\n",
              "      <th>3</th>\n",
              "      <td>Updated at 2:50 p. m. ET, Russian President Vl...</td>\n",
              "      <td>1</td>\n",
              "    </tr>\n",
              "    <tr>\n",
              "      <th>4</th>\n",
              "      <td>From photography, illustration and video, to d...</td>\n",
              "      <td>2</td>\n",
              "    </tr>\n",
              "    <tr>\n",
              "      <th>...</th>\n",
              "      <td>...</td>\n",
              "      <td>...</td>\n",
              "    </tr>\n",
              "    <tr>\n",
              "      <th>11987</th>\n",
              "      <td>The number of law enforcement officers shot an...</td>\n",
              "      <td>1</td>\n",
              "    </tr>\n",
              "    <tr>\n",
              "      <th>11988</th>\n",
              "      <td>Trump is busy these days with victory tours,...</td>\n",
              "      <td>4</td>\n",
              "    </tr>\n",
              "    <tr>\n",
              "      <th>11989</th>\n",
              "      <td>It’s always interesting for the Goats and Soda...</td>\n",
              "      <td>3</td>\n",
              "    </tr>\n",
              "    <tr>\n",
              "      <th>11990</th>\n",
              "      <td>The election of Donald Trump was a surprise to...</td>\n",
              "      <td>4</td>\n",
              "    </tr>\n",
              "    <tr>\n",
              "      <th>11991</th>\n",
              "      <td>Voters in the English city of Sunderland did s...</td>\n",
              "      <td>0</td>\n",
              "    </tr>\n",
              "  </tbody>\n",
              "</table>\n",
              "<p>11992 rows × 2 columns</p>\n",
              "</div>\n",
              "    <div class=\"colab-df-buttons\">\n",
              "\n",
              "  <div class=\"colab-df-container\">\n",
              "    <button class=\"colab-df-convert\" onclick=\"convertToInteractive('df-dd065e3b-65ab-47c7-8fc3-3dd54cc8f7a9')\"\n",
              "            title=\"Convert this dataframe to an interactive table.\"\n",
              "            style=\"display:none;\">\n",
              "\n",
              "  <svg xmlns=\"http://www.w3.org/2000/svg\" height=\"24px\" viewBox=\"0 -960 960 960\">\n",
              "    <path d=\"M120-120v-720h720v720H120Zm60-500h600v-160H180v160Zm220 220h160v-160H400v160Zm0 220h160v-160H400v160ZM180-400h160v-160H180v160Zm440 0h160v-160H620v160ZM180-180h160v-160H180v160Zm440 0h160v-160H620v160Z\"/>\n",
              "  </svg>\n",
              "    </button>\n",
              "\n",
              "  <style>\n",
              "    .colab-df-container {\n",
              "      display:flex;\n",
              "      gap: 12px;\n",
              "    }\n",
              "\n",
              "    .colab-df-convert {\n",
              "      background-color: #E8F0FE;\n",
              "      border: none;\n",
              "      border-radius: 50%;\n",
              "      cursor: pointer;\n",
              "      display: none;\n",
              "      fill: #1967D2;\n",
              "      height: 32px;\n",
              "      padding: 0 0 0 0;\n",
              "      width: 32px;\n",
              "    }\n",
              "\n",
              "    .colab-df-convert:hover {\n",
              "      background-color: #E2EBFA;\n",
              "      box-shadow: 0px 1px 2px rgba(60, 64, 67, 0.3), 0px 1px 3px 1px rgba(60, 64, 67, 0.15);\n",
              "      fill: #174EA6;\n",
              "    }\n",
              "\n",
              "    .colab-df-buttons div {\n",
              "      margin-bottom: 4px;\n",
              "    }\n",
              "\n",
              "    [theme=dark] .colab-df-convert {\n",
              "      background-color: #3B4455;\n",
              "      fill: #D2E3FC;\n",
              "    }\n",
              "\n",
              "    [theme=dark] .colab-df-convert:hover {\n",
              "      background-color: #434B5C;\n",
              "      box-shadow: 0px 1px 3px 1px rgba(0, 0, 0, 0.15);\n",
              "      filter: drop-shadow(0px 1px 2px rgba(0, 0, 0, 0.3));\n",
              "      fill: #FFFFFF;\n",
              "    }\n",
              "  </style>\n",
              "\n",
              "    <script>\n",
              "      const buttonEl =\n",
              "        document.querySelector('#df-dd065e3b-65ab-47c7-8fc3-3dd54cc8f7a9 button.colab-df-convert');\n",
              "      buttonEl.style.display =\n",
              "        google.colab.kernel.accessAllowed ? 'block' : 'none';\n",
              "\n",
              "      async function convertToInteractive(key) {\n",
              "        const element = document.querySelector('#df-dd065e3b-65ab-47c7-8fc3-3dd54cc8f7a9');\n",
              "        const dataTable =\n",
              "          await google.colab.kernel.invokeFunction('convertToInteractive',\n",
              "                                                    [key], {});\n",
              "        if (!dataTable) return;\n",
              "\n",
              "        const docLinkHtml = 'Like what you see? Visit the ' +\n",
              "          '<a target=\"_blank\" href=https://colab.research.google.com/notebooks/data_table.ipynb>data table notebook</a>'\n",
              "          + ' to learn more about interactive tables.';\n",
              "        element.innerHTML = '';\n",
              "        dataTable['output_type'] = 'display_data';\n",
              "        await google.colab.output.renderOutput(dataTable, element);\n",
              "        const docLink = document.createElement('div');\n",
              "        docLink.innerHTML = docLinkHtml;\n",
              "        element.appendChild(docLink);\n",
              "      }\n",
              "    </script>\n",
              "  </div>\n",
              "\n",
              "\n",
              "<div id=\"df-2e43d045-cf66-4bcc-b467-11b19a3ac988\">\n",
              "  <button class=\"colab-df-quickchart\" onclick=\"quickchart('df-2e43d045-cf66-4bcc-b467-11b19a3ac988')\"\n",
              "            title=\"Suggest charts\"\n",
              "            style=\"display:none;\">\n",
              "\n",
              "<svg xmlns=\"http://www.w3.org/2000/svg\" height=\"24px\"viewBox=\"0 0 24 24\"\n",
              "     width=\"24px\">\n",
              "    <g>\n",
              "        <path d=\"M19 3H5c-1.1 0-2 .9-2 2v14c0 1.1.9 2 2 2h14c1.1 0 2-.9 2-2V5c0-1.1-.9-2-2-2zM9 17H7v-7h2v7zm4 0h-2V7h2v10zm4 0h-2v-4h2v4z\"/>\n",
              "    </g>\n",
              "</svg>\n",
              "  </button>\n",
              "\n",
              "<style>\n",
              "  .colab-df-quickchart {\n",
              "      --bg-color: #E8F0FE;\n",
              "      --fill-color: #1967D2;\n",
              "      --hover-bg-color: #E2EBFA;\n",
              "      --hover-fill-color: #174EA6;\n",
              "      --disabled-fill-color: #AAA;\n",
              "      --disabled-bg-color: #DDD;\n",
              "  }\n",
              "\n",
              "  [theme=dark] .colab-df-quickchart {\n",
              "      --bg-color: #3B4455;\n",
              "      --fill-color: #D2E3FC;\n",
              "      --hover-bg-color: #434B5C;\n",
              "      --hover-fill-color: #FFFFFF;\n",
              "      --disabled-bg-color: #3B4455;\n",
              "      --disabled-fill-color: #666;\n",
              "  }\n",
              "\n",
              "  .colab-df-quickchart {\n",
              "    background-color: var(--bg-color);\n",
              "    border: none;\n",
              "    border-radius: 50%;\n",
              "    cursor: pointer;\n",
              "    display: none;\n",
              "    fill: var(--fill-color);\n",
              "    height: 32px;\n",
              "    padding: 0;\n",
              "    width: 32px;\n",
              "  }\n",
              "\n",
              "  .colab-df-quickchart:hover {\n",
              "    background-color: var(--hover-bg-color);\n",
              "    box-shadow: 0 1px 2px rgba(60, 64, 67, 0.3), 0 1px 3px 1px rgba(60, 64, 67, 0.15);\n",
              "    fill: var(--button-hover-fill-color);\n",
              "  }\n",
              "\n",
              "  .colab-df-quickchart-complete:disabled,\n",
              "  .colab-df-quickchart-complete:disabled:hover {\n",
              "    background-color: var(--disabled-bg-color);\n",
              "    fill: var(--disabled-fill-color);\n",
              "    box-shadow: none;\n",
              "  }\n",
              "\n",
              "  .colab-df-spinner {\n",
              "    border: 2px solid var(--fill-color);\n",
              "    border-color: transparent;\n",
              "    border-bottom-color: var(--fill-color);\n",
              "    animation:\n",
              "      spin 1s steps(1) infinite;\n",
              "  }\n",
              "\n",
              "  @keyframes spin {\n",
              "    0% {\n",
              "      border-color: transparent;\n",
              "      border-bottom-color: var(--fill-color);\n",
              "      border-left-color: var(--fill-color);\n",
              "    }\n",
              "    20% {\n",
              "      border-color: transparent;\n",
              "      border-left-color: var(--fill-color);\n",
              "      border-top-color: var(--fill-color);\n",
              "    }\n",
              "    30% {\n",
              "      border-color: transparent;\n",
              "      border-left-color: var(--fill-color);\n",
              "      border-top-color: var(--fill-color);\n",
              "      border-right-color: var(--fill-color);\n",
              "    }\n",
              "    40% {\n",
              "      border-color: transparent;\n",
              "      border-right-color: var(--fill-color);\n",
              "      border-top-color: var(--fill-color);\n",
              "    }\n",
              "    60% {\n",
              "      border-color: transparent;\n",
              "      border-right-color: var(--fill-color);\n",
              "    }\n",
              "    80% {\n",
              "      border-color: transparent;\n",
              "      border-right-color: var(--fill-color);\n",
              "      border-bottom-color: var(--fill-color);\n",
              "    }\n",
              "    90% {\n",
              "      border-color: transparent;\n",
              "      border-bottom-color: var(--fill-color);\n",
              "    }\n",
              "  }\n",
              "</style>\n",
              "\n",
              "  <script>\n",
              "    async function quickchart(key) {\n",
              "      const quickchartButtonEl =\n",
              "        document.querySelector('#' + key + ' button');\n",
              "      quickchartButtonEl.disabled = true;  // To prevent multiple clicks.\n",
              "      quickchartButtonEl.classList.add('colab-df-spinner');\n",
              "      try {\n",
              "        const charts = await google.colab.kernel.invokeFunction(\n",
              "            'suggestCharts', [key], {});\n",
              "      } catch (error) {\n",
              "        console.error('Error during call to suggestCharts:', error);\n",
              "      }\n",
              "      quickchartButtonEl.classList.remove('colab-df-spinner');\n",
              "      quickchartButtonEl.classList.add('colab-df-quickchart-complete');\n",
              "    }\n",
              "    (() => {\n",
              "      let quickchartButtonEl =\n",
              "        document.querySelector('#df-2e43d045-cf66-4bcc-b467-11b19a3ac988 button');\n",
              "      quickchartButtonEl.style.display =\n",
              "        google.colab.kernel.accessAllowed ? 'block' : 'none';\n",
              "    })();\n",
              "  </script>\n",
              "</div>\n",
              "    </div>\n",
              "  </div>\n"
            ],
            "application/vnd.google.colaboratory.intrinsic+json": {
              "type": "dataframe",
              "variable_name": "npr",
              "summary": "{\n  \"name\": \"npr\",\n  \"rows\": 11992,\n  \"fields\": [\n    {\n      \"column\": \"Article\",\n      \"properties\": {\n        \"dtype\": \"string\",\n        \"num_unique_values\": 11991,\n        \"samples\": [\n          \"Last week, physicists at the National Institute for Standards and Technology reported they\\u2019d cooled an object to a million times colder than room temperature. It was a record for the   science of  . In this field, researchers inch ever closer to  \\u2014   but never reach  \\u2014   the state of absolute zero temperature. It\\u2019s a science that has some very cool (pun very much intended) applications including   gravity wave detectors for \\u201dhearing\\u201d distant black hole mergers. But moving beyond these applications, why is   so hard to begin with? Why can\\u2019t we just get to absolute zero degrees and be done with it? The answer to this question drops us straight into one of the quantum universe\\u2019s most startling features: The world never rests. To see what this means, let\\u2019s remind ourselves about the meaning of \\u201dtemperature.\\u201d Without getting too technical (we should really be talking about entropy here) temperature for physicists is a measure of random motion. Imagine the gas molecules in the air around you are little cue balls of matter. The higher the air temperature, the faster those little orbs of matter will be ricocheting around the room, bouncing off the walls and each other. So cooling the air means finding some means to slow the molecules down. From this perspective, there there\\u2019s no conceptual reason why you shouldn\\u2019t be able bring them entirely to a halt. Do that, and the air would have a temperature of \\u201dabsolute zero\\u201d degrees (as measured in units called Kelvins. In Fahrenheit, this would be  . 67 degrees). But, it turns out, nature doesn\\u2019t work that way. The universe doesn\\u2019t \\u201ddo\\u201d zero temperatures because it doesn\\u2019t do zero motion. Thinking about matter and motion in the way we described above is what we physicists call \\u201da classical picture.\\u201d In classical physics, matter is made of tiny particles of \\u201dstuff\\u201d and motion is just the change in the particles position with time. It all makes intuitive sense based on our experience of the world at the scale of baseballs and boulders. But a hundred years or so ago, physicists began probing the world on the scale of atoms. What they found was the classical, intuitive picture didn\\u2019t work well for explaining their experiments. In response, they developed a new kind of physics. In an astonishing burst of creativity, they kept key principles from the classical world  \\u2014   like the conservation of energy  \\u2014   but added new rules. One of these was the Uncertainty Principle, which essentially told us that reality is fuzzy at its root level. To be exact, certain pairs of properties  \\u2014   like motion and position  \\u2014   can never be known exactly. The Uncertainty Principle isn\\u2019t saying there\\u2019s something wrong with our instruments. Instead, it tells us there\\u2019s something wrong with our classical intuitions. In particular, when it comes to motion, it tells us it\\u2019s impossible to know the position and the motion of a particle exactly. The more you lock in the position of a particle, the wider the range of velocities the particle can have. So what does this have to do with temperature? Absolute zero should mean bringing particles to a halt. But that would imply you knew exactly where they were. You had them perfectly \\u201dlocalized.\\u201d If that\\u2019s the case, then the Uncertainty Principle demands there must be some uncertainty in their motion. They can\\u2019t be perfectly known to be perfectly at rest. The deeper meaning of this this quantum logic is that the universe can never be at rest. There is a \\u201dfloor\\u201d to how much things can be slowed down (or cooled). It\\u2019s impossible to go below that floor (though scientists do get ever more clever in skirting its edges). The implications of this can get pretty strange. Imagine we put a particle, like an electron, in a box. Now we ask: What\\u2019s the lowest energy state of the electron + box system? In classical physics, it would just be the electron sitting there unmoving  \\u2014   i. e. zero motion, hence zero energy. But quantum physics won\\u2019t allow such a thing as zero energy (because of the Uncertainty Principle). Instead, the system has   \\u201dground state\\u201d energy with the electron bouncing back and forth between the box walls. That\\u2019s as low as you can go. The electron can\\u2019t be stopped. Take this idea further, and you get to the delicious idea of vacuum energy. There the Uncertainty Principle demands that there can be no pure and perfect vacuum with a state of zero energy. Thus, in quantum physics, the vacuum is not empty but is a seething froth of \\u201dvirtual particles\\u201d that are never manifested and yet have a verifiable effect on the particles we do see. No vacuum. No zero energy. No zero temperature. No common sense expectation about the world\\u2019s behavior. The discovery that the quantum world was the foundation for our   classical experience was a triumph of science. It was a validation of science\\u2019s ability to take us beyond our limited senses and limited concepts. There is no way to \\u201dpicture\\u201d this quantum world with our classical imaginations. Instead, what we found was a new frontier. At its root, quantum physics showed us that this world we inhabit is dynamic to its very core: buzzing, roaring, shuddering and trembling like an infinite Jackson Pollack painting. It is not just richer than we imagined, but stranger and more wonderful than we can imagine. That view, hidden in the impossibility of absolute zero temperature, is a gift that science has given us all. Now what are we to make of it? Adam Frank is a   of the 13. 7 blog, an astrophysics professor at the University of Rochester, a book author and a   \\u201devangelist of science.\\u201d You can keep up with more of what Adam is thinking on Facebook and Twitter: @adamfrank4\",\n          \"President Trump hosted Russian Foreign Minister Sergey Lavrov at the White House on Wednesday, one day after firing the man whose agency is investigating Russia\\u2019s meddling in the 2016 election that brought Trump to power. Trump fired   FBI Director James Comey, who told Congress earlier this year that his agency has been investigating Russia\\u2019s actions  \\u2014   and possible ties to anyone associated with the Trump campaign  \\u2014   since July. As NPR\\u2019s Domenico Montanaro reports, the firing of Comey with more than six years left on his term in office has prompted a flurry of questions about the president\\u2019s motives  \\u2014   and about what\\u2019s next. Lavrov\\u2019s meeting with the president was scheduled for 10:30 a. m. ET, and it was declared closed to the press. Russian agencies tweeted photos from the Oval Office showing that in addition to Lavrov, Trump shook hands with Russia\\u2019s ambassador to America, Sergey Kislyak  \\u2014   a key figure in the investigation into Trump\\u2019s ousted national security adviser, Michael Flynn. After the Lavrov session had concluded, members of the U. S. media were allowed into the Oval Office, where they found the president sitting with Henry Kissinger, who served as President Richard Nixon\\u2019s secretary of state. The meeting hadn\\u2019t been listed on the president\\u2019s official schedule. Trump said he and Kissinger had met to talk \\u201dabout Russia and various other matters,\\u201d according to the pool report. To a question about Comey, Trump reportedly replied, \\u201dHe wasn\\u2019t doing a good job. Very simply. He was not doing a good job.\\u201d The president also said the issue had not affected his meeting with Lavrov. Lavrov arrived in Washington on Tuesday. He met with Secretary of State Rex Tillerson at the White House early Wednesday, ahead of his visit to the Oval Office. Tillerson and Lavrov made a brief appearance Wednesday morning for a   and as Tillerson began to lead his guest back behind closed doors, Lavrov responded to a question about Comey\\u2019s firing. When a reporter asked whether the dismissal has \\u201dcast a shadow\\u201d over their talks, Lavrov stopped and seemed to look genuinely quizzical when he responded, \\u201dWas he fired?\\u201d  \\u2014   but then adopted a deadpan tone as he told the reporter, \\u201dYou are kidding, you are kidding.\\u201d With a theatrical twitch of his head, the Russian diplomat then followed his American counterpart away from the media. The exchange was not included in the State Department\\u2019s brief video snippet from the   that it posted to Twitter. Tillerson\\u2019s office said his talks with Lavrov would focus on \\u201dUkraine, Syria, and bilateral issues.\\u201d But the Russians\\u2019 visit to the White House also came as the Kremlin made its first public comments on Comey\\u2019s removal. When Russian presidential spokesman Dmitry Peskov was asked how the firing might affect U. S.  relations, Peskov replied, \\u201dWe hope that it will not affect them at all. That\\u2019s the United States\\u2019 internal affair. That\\u2019s the U. S. president\\u2019s independent decision, which has nothing to do and should have nothing to do with Russia.\\u201d Comey\\u2019s dismissal has sparked new calls for an independent probe into Russia\\u2019s attempts to influence last year\\u2019s U. S. presidential election  \\u2014   despite the Trump administration\\u2019s assertion that Comey was removed over his handling of the investigation into Clinton\\u2019s private email server. \\u201dThis is nothing less than Nixonian,\\u201d said Patrick Leahy,  . a longtime member of the Senate Judiciary Committee. Announcing Comey\\u2019s abrupt firing Tuesday afternoon, White House press secretary Sean Spicer said the president \\u201dacted based on the clear recommendations of both Deputy Attorney General Rod Rosenstein and Attorney General Jeff Sessions.\\u201d\",\n          \"Republican presidential nominee Donald Trump has been calling for a criminal investigation of his political opponent Hillary Clinton on the campaign trail this year. Trump is angry the FBI probe of Clinton\\u2019s email server ended with no charges. Now, he says, an independent outsider needs to look at the Clinton Foundation. \\u201dThe Justice Department is required to appoint an independent special prosecutor because it has proven itself to be really, sadly, a political arm of the White House,\\u201d Trump said in Akron, Ohio, last week. Trump has offered no evidence to back up his claims that the Justice Department has been corrupted. But his call for a special prosecutor sounds familiar to people who study the intersection of law and politics. \\u201dIf you look at the chronology, pretty much the political party that does not control the White House tends to want special prosecutors and independent counsel laws,\\u201d said Ken Gormley, president of Duquesne University in Pittsburgh and the author of two books on special prosecutors. \\u201dAs soon as the party is in the White House, they don\\u2019t want it anymore.\\u201d In modern times, the idea first cropped up during the 1970s. President Richard Nixon notoriously fired a special prosecutor who was getting close to the tapes that would bring down his administration. Five months after what became known as the Saturday Night Massacre, Congress started work on an independent counsel law. The idea was to insulate sensitive criminal investigations from meddling by the White House. The law would stand for about 20 years. It didn\\u2019t produce many criminal convictions, but it did stir up a lot of trouble for presidents  \\u2014   and the people close to them. In 1996, Hillary Clinton became the first sitting first lady to testify before a grand jury. This one was investigating the Whitewater affair, an investigation that began with a real estate investment and morphed into scrutiny of President Bill Clinton\\u2019s sexual improprieties. Hillary Clinton was never charged with wrongdoing, but the investigation left a mark. Years later, Gormley interviewed Bill Clinton about it. \\u201dHe made clear that his decision to allow and endorse the appointment of an independent counsel in the Whitewater matter was one of the biggest mistakes of his presidency,\\u201d Gormley said. \\u201dIn fact, the words he used at one point is that it was like Wile E. Coyote and the Road Runner. And almost from the moment he was in the White House, there were political opponents using special prosecutors to bring him down, and they were off to the races.\\u201d By 1999, when Congress considered whether to renew the statute, opposition came from nearly all sides. Even Whitewater independent counsel Ken Starr told Congress the law had become a political weapon. \\u201dThe statutory mechanism intended to enhance confidence in law enforcement had the effect of weakening it,\\u201d Starr said, in arguing the law should not be reauthorized. \\u201dJurisdiction and authority over these sensitive matters ought to be returned to the Justice Department. And who will oversee them? The Congress, the press, the public.\\u201d That\\u2019s exactly what happened. The law expired. But the Justice Department can still use special prosecutors. They\\u2019re career lawyers, protected from political leaders at Justice by a firewall. During the George W. Bush years, special prosecutor Patrick Fitzgerald charged and convicted a top aide to the vice president. Justice Department leaders went on to deploy special prosecutors to investigate the firings of U. S. attorneys and the destruction of videotapes that showed torture of detainees. But authorities have relied on those prosecutors only sparingly, a position adopted by many, including Gormley. \\u201dI think I\\u2019ve come to the conclusion that we are better off when we have less of these investigations rather than more,\\u201d he said. \\u201dThey should be reserved for very special and extreme occasions.\\u201d Otherwise, Gormley argued, they could distract from what\\u2019s really important. \\u201dAs we as a country were just obsessed with the issue of Whitewater, Paula Jones, Monica Lewinsky and all of these distractions during the 1990s, there were people inside and outside the country literally plotting our attack,\\u201d he said. One of them, Gormley said, was Osama bin Laden.\"\n        ],\n        \"semantic_type\": \"\",\n        \"description\": \"\"\n      }\n    },\n    {\n      \"column\": \"Topic\",\n      \"properties\": {\n        \"dtype\": \"number\",\n        \"std\": 1,\n        \"min\": 0,\n        \"max\": 6,\n        \"num_unique_values\": 7,\n        \"samples\": [\n          1,\n          2,\n          4\n        ],\n        \"semantic_type\": \"\",\n        \"description\": \"\"\n      }\n    }\n  ]\n}"
            }
          },
          "metadata": {},
          "execution_count": 63
        }
      ]
    }
  ]
}